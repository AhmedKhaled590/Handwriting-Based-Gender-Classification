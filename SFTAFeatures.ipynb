{
 "cells": [
  {
   "cell_type": "markdown",
   "metadata": {},
   "source": [
    "### libraries"
   ]
  },
  {
   "cell_type": "code",
   "execution_count": 228,
   "metadata": {},
   "outputs": [],
   "source": [
    "#thanks to https://github.com/ebenolson/tessa/blob/master/sfta.py\n",
    "\n",
    "from cmath import e\n",
    "from time import time\n",
    "import cv2\n",
    "import numpy as np\n",
    "# from skimage.feature import graycomatrix, graycoprops\n",
    "from skimage.measure import shannon_entropy as Entropy\n",
    "from sklearn import svm\n",
    "from sklearn.svm import SVC\n",
    "import os\n",
    "import utils\n",
    "import pandas as pd\n",
    "import numpy as np"
   ]
  },
  {
   "cell_type": "markdown",
   "metadata": {},
   "source": [
    "### Extraction of SFTA"
   ]
  },
  {
   "cell_type": "code",
   "execution_count": 229,
   "metadata": {},
   "outputs": [],
   "source": [
    "def mrange(start, step, end):\n",
    "    \"\"\"mimic behavior of MATLAB's range function\n",
    "    \"\"\"\n",
    "    def gen(start, step, end):\n",
    "        n = start\n",
    "        while n <= end:\n",
    "            yield n\n",
    "            n = n+step\n",
    "    return list(gen(start, step, end))\n",
    "\n",
    "\n",
    "def findBorders(Im):\n",
    "    I = np.pad(Im, [[1, 1], [1, 1]], 'constant', constant_values=1).astype('uint8')\n",
    "\n",
    "    I2 = I[2:, 1:-1]+I[0:-2, 1:-1]+I[1:-1:, 2:]+I[1:-1:, 0:-2] + \\\n",
    "        I[2:, 2:]+I[2:, 0:-2]+I[0:-2, 2:]+I[0:-2, 0:-2]\n",
    "    return Im * (I2 < 8)\n",
    "\n",
    "\n",
    "def otsu(counts):\n",
    "    p = counts*1.0/np.sum(counts)\n",
    "    omega = np.cumsum(p)\n",
    "    mu = np.cumsum(p*range(1, len(p)+1))\n",
    "    mu_t = mu[-1]\n",
    "    with np.errstate(divide='ignore', invalid='ignore'):\n",
    "        sigma_b_squared = (mu_t * omega - mu)**2 / (omega * (1-omega))\n",
    "    maxval = np.max(np.nan_to_num(sigma_b_squared))\n",
    "    if np.isnan(sigma_b_squared).all():\n",
    "        pos = 0\n",
    "    else:\n",
    "        pos = np.mean((sigma_b_squared == maxval).nonzero())+1\n",
    "    return pos\n",
    "\n",
    "\n",
    "def otsurec(I, ttotal):\n",
    "    if I == []:\n",
    "        T = []\n",
    "    else:\n",
    "        I = I.astype(np.uint8).flatten()\n",
    "\n",
    "        num_bins = 256\n",
    "        counts = np.histogram(I, range(num_bins))[0]\n",
    "\n",
    "        T = np.zeros((ttotal, 1))\n",
    "\n",
    "        def otsurec_helper(lowerBin, upperBin, tLower, tUpper):\n",
    "            if ((tUpper < tLower) or (lowerBin >= upperBin)):\n",
    "                return\n",
    "            level = otsu(counts[int(np.ceil(lowerBin))-1:int(np.ceil(upperBin))]) + lowerBin\n",
    "\n",
    "            insertPos = int(np.ceil((tLower + tUpper) / 2.))\n",
    "            T[insertPos-1] = level / num_bins\n",
    "            otsurec_helper(lowerBin, level, tLower, insertPos - 1)\n",
    "            otsurec_helper(level + 1, upperBin, insertPos + 1, tUpper)\n",
    "\n",
    "        otsurec_helper(1, num_bins, 1, ttotal)\n",
    "    return [t[0] for t in T]\n",
    "\n",
    "\n",
    "def hausDim(I):\n",
    "    maxDim = np.max(np.shape(I))\n",
    "    newDimSize = int(2**np.ceil(np.log2(maxDim)))\n",
    "    rowPad = newDimSize - np.shape(I)[0]\n",
    "    colPad = newDimSize - np.shape(I)[1]\n",
    "\n",
    "    I = np.pad(I, ((0, rowPad), (0, colPad)), 'constant')\n",
    "\n",
    "    boxCounts = np.zeros(int(np.ceil(np.log2(maxDim)))+1)\n",
    "    resolutions = np.zeros(int(np.ceil(np.log2(maxDim)))+1)\n",
    "\n",
    "    iSize = np.shape(I)[0]\n",
    "    boxSize = 1\n",
    "    idx = 0\n",
    "    while boxSize <= iSize:\n",
    "        boxCount = (I > 0).sum()\n",
    "        idx = idx + 1\n",
    "        boxCounts[idx-1] = boxCount\n",
    "        resolutions[idx-1] = 1./boxSize\n",
    "\n",
    "        boxSize = boxSize*2\n",
    "        I = I[::2, ::2]+I[1::2, ::2]+I[1::2, 1::2]+I[::2, 1::2]\n",
    "    D = np.polyfit(np.log(resolutions), np.log(boxCounts), 1)\n",
    "    return D[0]\n",
    "\n",
    "\n",
    "# from PIL import Image\n",
    "# DF=4\n",
    "def extractSFTA(filename, outputFileName, nt=4):\n",
    "    I = cv2.imread(filename)\n",
    "    # I = np.array(Image.fromarray(I).resize((I.shape[0]//DF, I.shape[1]// DF)))\n",
    "\n",
    "    if len(np.shape(I)) == 3:\n",
    "        I = np.mean(I, 2)\n",
    "    # elif len(np.shape(I)) != 2:\n",
    "    #     raise ImageDimensionError\n",
    "\n",
    "    I = I.astype(np.uint8)\n",
    "\n",
    "    T = otsurec(I, nt)\n",
    "    dSize = len(T)*6\n",
    "    D = np.zeros(dSize)\n",
    "    pos = 0\n",
    "    for t in range(len(T)):\n",
    "        thresh = T[t]\n",
    "        Ib = I > (thresh*255)\n",
    "        Ib = findBorders(Ib)\n",
    "\n",
    "        vals = I[Ib.nonzero()].astype(np.double)\n",
    "        D[pos] = hausDim(Ib)\n",
    "        pos += 1\n",
    "\n",
    "        D[pos] = np.mean(vals)\n",
    "        pos += 1\n",
    "\n",
    "        D[pos] = len(vals)\n",
    "        pos += 1\n",
    "\n",
    "    T = T+[1.0, ]\n",
    "    for t in range(len(T)-1):\n",
    "        lowerThresh = T[t]\n",
    "        upperThresh = T[t+1]\n",
    "        Ib = (I > (lowerThresh*255)) * (I < (upperThresh*255))\n",
    "        Ib = findBorders(Ib)\n",
    "\n",
    "        vals = I[Ib.nonzero()].astype(np.double)\n",
    "        D[pos] = hausDim(Ib)\n",
    "        pos += 1\n",
    "\n",
    "        D[pos] = np.mean(vals)\n",
    "        pos += 1\n",
    "\n",
    "        D[pos] = len(vals)\n",
    "        pos += 1\n",
    "\n",
    "    features = D\n",
    "    features = features.flatten()\n",
    "    features = features.reshape(1, -1)\n",
    "\n",
    "    with open(outputFileName+'.csv', 'a') as csvfile:\n",
    "        np.savetxt(csvfile, features, fmt='%f', delimiter=',')\n",
    "        csvfile.close()\n",
    "    \n",
    "    # print('extracted sfta: ' , len(D))\n",
    "    \n",
    "    return D\n",
    "\n",
    "\n",
    "# class SegmentationFractalTextureAnalysis(object):\n",
    "#     \"\"\"Computes features by applying multiple thresholds and caculating the fractal dimension\n",
    "#         of the resulting binary images\"\"\"\n",
    "#     def __init__(self, nt):\n",
    "#         \"\"\"Args:\n",
    "#                 nt: the number of thresholds\n",
    "#         \"\"\"\n",
    "#         super(SegmentationFractalTextureAnalysis, self).__init__()\n",
    "#         self.nt = nt\n",
    "\n",
    "#     def feature_vector(self, image):\n",
    "#         \"\"\"Returns the feature vector of an image\n",
    "#         \"\"\"\n",
    "#         return sfta(image, self.nt)\n"
   ]
  },
  {
   "cell_type": "markdown",
   "metadata": {},
   "source": [
    "### initialize output files"
   ]
  },
  {
   "cell_type": "code",
   "execution_count": 230,
   "metadata": {},
   "outputs": [],
   "source": [
    "def intialize(): \n",
    "    \n",
    "    # check if file exists delete it\n",
    "    if os.path.isfile('femaleSFTA.csv'):\n",
    "        os.remove('femaleSFTA.csv')\n",
    "\n",
    "    if os.path.isfile(\"maleSFTA.csv\"):\n",
    "        os.remove('maleSFTA.csv')\n",
    "\n",
    "    if os.path.isfile(\"testSFTA.csv\"):\n",
    "        os.remove('testSFTA.csv')\n",
    "    if os.path.isfile(\"icdarSFTA.csv\"):\n",
    "        os.remove('icdarSFTA.csv')\n",
    "\n",
    "    with open('femaleSFTA.csv', 'a') as csvfile:\n",
    "        np.savetxt(csvfile, [], delimiter=',')\n",
    "        csvfile.close()\n",
    "\n",
    "    with open('maleSFTA.csv', 'a') as csvfile:\n",
    "        np.savetxt(csvfile, [], delimiter=',')\n",
    "        csvfile.close()\n",
    "\n",
    "    with open('testSFTA.csv', 'a') as csvfile:\n",
    "        np.savetxt(csvfile, [], delimiter=',')\n",
    "        csvfile.close()\n",
    "\n",
    "    with open('icdarSFTA.csv', 'a') as csvfile:\n",
    "        np.savetxt(csvfile, [], delimiter=',')\n",
    "        csvfile.close()\n"
   ]
  },
  {
   "cell_type": "markdown",
   "metadata": {},
   "source": [
    "### extract features of ICDAR dataset"
   ]
  },
  {
   "cell_type": "code",
   "execution_count": 231,
   "metadata": {},
   "outputs": [],
   "source": [
    "def extractICDAR():\n",
    "\n",
    "    X_train=[]\n",
    "    Y_train=[]\n",
    "\n",
    "    # read csv file\n",
    "    df = pd.read_csv('train_answers.csv')\n",
    "    \n",
    "    # get the labels\n",
    "    icdar_classes = df['male'].values\n",
    "\n",
    "    i = 0\n",
    "    for filename in os.listdir('images_gender/images/train'):\n",
    "        try:\n",
    "            X_train.append(extractSFTA('images_gender/images/train/'+filename, 'icdarSFTA'))\n",
    "            Y_train.append(icdar_classes[i//2])\n",
    "            i+=1\n",
    "            print('icdar X_train: ', (len(X_train),len(X_train[0])))\n",
    "            print('icdar Y_train: ', (len(Y_train),1))\n",
    "        except Exception as e:\n",
    "            print(e)\n",
    "            continue\n",
    "\n",
    "    return X_train,Y_train"
   ]
  },
  {
   "cell_type": "markdown",
   "metadata": {},
   "source": [
    "### extract features from CMP dataset"
   ]
  },
  {
   "cell_type": "code",
   "execution_count": 232,
   "metadata": {},
   "outputs": [],
   "source": [
    "def extractCMP():\n",
    "\n",
    "    X_train=[]\n",
    "    Y_train=[]\n",
    "\n",
    "    X_test=[]\n",
    "    Y_test=[]\n",
    "\n",
    "    for filename in os.listdir(\"Females/Females\"):\n",
    "        try:\n",
    "            X_train.append(extractSFTA('Females/Females/'+filename, 'femaleSFTA'))\n",
    "            Y_train.append(0)\n",
    "            # print('cmp X_train: ', (len(X_train),len(X_train[0])))\n",
    "            # print('cmp Y_train: ', (len(Y_train),1))\n",
    "        except Exception as e:\n",
    "            print(e)\n",
    "            continue\n",
    "\n",
    "    for filename in os.listdir(\"Males/Males\"):\n",
    "        try:\n",
    "            X_train.append(extractSFTA('Males/Males/'+filename, 'maleSFTA'))\n",
    "            Y_train.append(1)\n",
    "            # print('cmp X_train: ', (len(X_train),len(X_train[0])))\n",
    "            # print('cmp Y_train: ', (len(Y_train),1))\n",
    "        except Exception as e:\n",
    "            print(e)\n",
    "            continue\n",
    "\n",
    "    for filename in os.listdir('Unspecified/Unspecified'):\n",
    "        X_test.append(extractSFTA('Unspecified/Unspecified/'+filename, 'testSFTA'))\n",
    "        if filename.find('F')!=-1:\n",
    "            Y_test.append(0)\n",
    "        else:\n",
    "            Y_test.append(1)\n",
    "        # print('cmp X_test: ', (len(X_train),len(X_train[0])))\n",
    "        # print('cmp Y_test: ', (len(Y_train),1))\n",
    "\n",
    "    return X_train,Y_train,X_test,Y_test\n",
    "\n"
   ]
  },
  {
   "cell_type": "markdown",
   "metadata": {},
   "source": [
    "### train models and predict"
   ]
  },
  {
   "cell_type": "code",
   "execution_count": 233,
   "metadata": {},
   "outputs": [],
   "source": [
    "def MLmodels(X_train,Y_train,X_test,Y_test):\n",
    "\n",
    "    # train the classifier and predict the test data\n",
    "    print(\"Training the classifier...\")\n",
    "    start_time = time()\n",
    "\n",
    "    clf = SVC(C=50000.0, class_weight='balanced', gamma=0.0001, kernel='rbf')\n",
    "    # print(train_classes.shape)\n",
    "    # svmTuner(features, train_classes)\n",
    "    clf.fit(X_train, Y_train)\n",
    "\n",
    "    end_time = time()\n",
    "    print(\"Time taken to train the classifier: \",end_time-start_time, \" seconds\")\n",
    "\n",
    "\n",
    "    # predict the test data\n",
    "    print(\"Predicting the test data...\")\n",
    "    start_time = time()\n",
    "\n",
    "    predicted_classes = clf.predict(X_test)\n",
    "    \n",
    "    end_time = time()\n",
    "    print(predicted_classes,Y_test)\n",
    "    print(\"Time taken to predict the test data: \",end_time-start_time, \" seconds\")\n",
    "\n",
    "    # calculate the accuracy\n",
    "    print(\"Calculating the accuracy...\")\n",
    "    print(\"Accuracy: \", utils.get_accuracy(Y_test, predicted_classes))\n"
   ]
  },
  {
   "cell_type": "markdown",
   "metadata": {},
   "source": [
    "### main function"
   ]
  },
  {
   "cell_type": "markdown",
   "metadata": {},
   "source": [
    "### ICDAR part"
   ]
  },
  {
   "cell_type": "code",
   "execution_count": 234,
   "metadata": {},
   "outputs": [
    {
     "name": "stdout",
     "output_type": "stream",
     "text": [
      "Extracting SFTA features...\n"
     ]
    }
   ],
   "source": [
    "if __name__ == '__main__':\n",
    "   \n",
    "    print(\"Extracting SFTA features...\")\n",
    "\n",
    "    intialize()\n",
    "\n",
    "    X_train=[]\n",
    "    Y_train=[]\n",
    "\n",
    "    X_test=[]\n",
    "    Y_test=[]\n",
    "\n",
    "    # time to extract features\n",
    "    start_time = time()\n",
    "\n",
    "    X1_train,Y1_train=[],[]#extractICDAR()\n",
    "    \n"
   ]
  },
  {
   "cell_type": "markdown",
   "metadata": {},
   "source": [
    "### CMP part"
   ]
  },
  {
   "cell_type": "code",
   "execution_count": 235,
   "metadata": {},
   "outputs": [
    {
     "name": "stderr",
     "output_type": "stream",
     "text": [
      "<ipython-input-229-e16c6179cfd3>:36: DeprecationWarning: elementwise comparison failed; this will raise an error in the future.\n",
      "  if I == []:\n"
     ]
    },
    {
     "name": "stdout",
     "output_type": "stream",
     "text": [
      "Time taken to extract features:  720.0524525642395  seconds\n"
     ]
    }
   ],
   "source": [
    "    X2_train,Y2_train,X2_test,Y2_test=extractCMP()\n",
    "    \n",
    "    X_train=X1_train+X2_train\n",
    "    Y_train=Y1_train+Y2_train\n",
    "\n",
    "    X_test=X2_test\n",
    "    Y_test=Y2_test\n",
    "\n",
    "    end_time = time()\n",
    "    print(\"Time taken to extract features: \", end_time-start_time, \" seconds\")    "
   ]
  },
  {
   "cell_type": "markdown",
   "metadata": {},
   "source": [
    "### Models part"
   ]
  },
  {
   "cell_type": "code",
   "execution_count": 236,
   "metadata": {},
   "outputs": [
    {
     "name": "stdout",
     "output_type": "stream",
     "text": [
      "Training the classifier...\n",
      "Time taken to train the classifier:  0.012982845306396484  seconds\n",
      "Predicting the test data...\n",
      "[1 1 1 1 1 1 1 1 1 1 1 1 1 1 1 1 1 1 1 1 1 1 1 1 1 1 1 1 1 1 1 1 1 1 1 1 1\n",
      " 1 1 1 1 1 1 1 1 1 1 1 1 1] [0, 0, 0, 1, 0, 0, 0, 1, 1, 1, 0, 1, 1, 0, 0, 0, 1, 0, 0, 0, 1, 1, 1, 1, 0, 1, 1, 1, 0, 1, 1, 1, 1, 1, 0, 0, 1, 1, 0, 1, 0, 0, 1, 0, 1, 1, 1, 0, 0, 1]\n",
      "Time taken to predict the test data:  0.002969980239868164  seconds\n",
      "Calculating the accuracy...\n",
      "Accuracy:  0.54\n"
     ]
    }
   ],
   "source": [
    "    MLmodels(X_train,Y_train,X_test,Y_test)\n",
    "    # print(X_train)\n",
    "    # print(Y_train)\n",
    "    # print(X_test)\n",
    "    # print(Y_test)"
   ]
  },
  {
   "cell_type": "markdown",
   "metadata": {},
   "source": [
    "### testing area"
   ]
  },
  {
   "cell_type": "code",
   "execution_count": 237,
   "metadata": {},
   "outputs": [
    {
     "name": "stdout",
     "output_type": "stream",
     "text": [
      "[1, 3, [4, 5], [6, 7]]\n",
      "[[4, 5], [6, 7], 1, 3]\n"
     ]
    }
   ],
   "source": [
    "x=[1,3]\n",
    "y=[[4,5],[6,7]]\n",
    "# y.append(x)\n",
    "print(x+y)\n",
    "print(y+x)\n",
    "\n",
    "# x=np.empty((0,2))\n",
    "# print(x.shape)\n",
    "# y=np.array([\n",
    "#     [1,2],\n",
    "#     [3,4]\n",
    "# ])\n",
    "# z=np.array([\n",
    "#     [11,11],\n",
    "#     [31,41]\n",
    "# ])\n",
    "\n",
    "# print(x,y)\n",
    "\n",
    "# c=np.append(x,y,axis=0)\n",
    "# print(c)\n",
    "\n",
    "# c=np.append(c,z,axis=0)\n",
    "# print(c.shape)\n",
    "\n"
   ]
  },
  {
   "cell_type": "code",
   "execution_count": null,
   "metadata": {},
   "outputs": [],
   "source": []
  }
 ],
 "metadata": {
  "interpreter": {
   "hash": "72829f2b30114493b623e4fd7453efb764dc59f704421bdf36b71a1994c2d173"
  },
  "kernelspec": {
   "display_name": "Python 3.8.8 ('base')",
   "language": "python",
   "name": "python3"
  },
  "language_info": {
   "codemirror_mode": {
    "name": "ipython",
    "version": 3
   },
   "file_extension": ".py",
   "mimetype": "text/x-python",
   "name": "python",
   "nbconvert_exporter": "python",
   "pygments_lexer": "ipython3",
   "version": "3.8.8"
  },
  "orig_nbformat": 4
 },
 "nbformat": 4,
 "nbformat_minor": 2
}
