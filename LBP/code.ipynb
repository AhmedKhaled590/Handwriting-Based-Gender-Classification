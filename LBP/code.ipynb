{
 "cells": [
  {
   "cell_type": "code",
   "execution_count": 1,
   "metadata": {},
   "outputs": [],
   "source": [
    "from commonfunctions import *\n",
    "from skimage.feature import local_binary_pattern\n",
    "from skimage import data\n",
    "from skimage.color import rgba2rgb\n",
    "from commonfunctions import *\n",
    "import numpy as np\n",
    "import os"
   ]
  },
  {
   "cell_type": "markdown",
   "metadata": {},
   "source": [
    "## Function to read all images in a directory"
   ]
  },
  {
   "cell_type": "code",
   "execution_count": 2,
   "metadata": {},
   "outputs": [],
   "source": [
    "def get_fname_images_tuple(directory):\n",
    "    fnames = os.listdir(directory)\n",
    "    fnames.sort(key=lambda x:int(x[1:-4]))\n",
    "    to_return = []\n",
    "    for fn in fnames:\n",
    "        if fn[-3:] == 'jpg':\n",
    "            path = os.path.join(directory, fn)\n",
    "            gray_scale_image = (rgb2gray(io.imread(path)) * 255).astype(np.uint8)\n",
    "            to_return.append((fn, gray_scale_image))\n",
    "        else:\n",
    "            print('This file has been skipped', fn)\n",
    "    return to_return"
   ]
  },
  {
   "cell_type": "markdown",
   "metadata": {},
   "source": [
    "## Local Binary Patterns"
   ]
  },
  {
   "cell_type": "code",
   "execution_count": 61,
   "metadata": {},
   "outputs": [],
   "source": [
    "def LBP(img):\n",
    "    numPoints = 16\n",
    "    radius = 2\n",
    "\n",
    "    # lbp2 = local_binary_pattern(img, numPoints, radius, method=\"nri_uniform\").astype(int)\n",
    "    lbp2 = local_binary_pattern(img, numPoints, radius, method=\"nri_uniform\").astype(int)\n",
    "    \n",
    "    cts = np.zeros(numPoints * (numPoints - 1) + 3)\n",
    "    # cts = np.zeros(18)\n",
    "    def f2(v):\n",
    "        cts[v] += 1\n",
    "\n",
    "    f22 = np.vectorize(f2)\n",
    "    f22(lbp2)\n",
    "    return cts"
   ]
  },
  {
   "cell_type": "markdown",
   "metadata": {},
   "source": [
    "## Read Males files"
   ]
  },
  {
   "cell_type": "code",
   "execution_count": 54,
   "metadata": {},
   "outputs": [],
   "source": [
    "males = get_fname_images_tuple('Males/Males')"
   ]
  },
  {
   "cell_type": "markdown",
   "metadata": {},
   "source": [
    "## Read Females files"
   ]
  },
  {
   "cell_type": "code",
   "execution_count": 55,
   "metadata": {},
   "outputs": [],
   "source": [
    "females = get_fname_images_tuple('Females/Females')"
   ]
  },
  {
   "cell_type": "markdown",
   "metadata": {},
   "source": [
    "## binary image"
   ]
  },
  {
   "cell_type": "code",
   "execution_count": 62,
   "metadata": {},
   "outputs": [],
   "source": [
    "def thresh(image, th):\n",
    "    image[image>th] = 255\n",
    "    image[image<th] = 0"
   ]
  },
  {
   "cell_type": "code",
   "execution_count": 63,
   "metadata": {},
   "outputs": [],
   "source": [
    "from PIL import Image"
   ]
  },
  {
   "cell_type": "code",
   "execution_count": 64,
   "metadata": {},
   "outputs": [],
   "source": [
    "DF = 4 # Divide Factor"
   ]
  },
  {
   "cell_type": "markdown",
   "metadata": {},
   "source": [
    "## Try on one image"
   ]
  },
  {
   "cell_type": "code",
   "execution_count": 65,
   "metadata": {},
   "outputs": [],
   "source": [
    "img = males[10][1].copy()\n",
    "img = np.array(Image.fromarray(img).resize((img.shape[0]//DF, img.shape[1]// DF)))\n",
    "thresh(img, 150)"
   ]
  },
  {
   "cell_type": "code",
   "execution_count": 66,
   "metadata": {},
   "outputs": [
    {
     "name": "stdout",
     "output_type": "stream",
     "text": [
      "(243,)\n"
     ]
    }
   ],
   "source": [
    "cts = LBP(img)\n",
    "print(cts.shape)\n",
    "io.imsave('output.jpg',img)\n",
    "np.savetxt('features.csv', cts.reshape(1, len(cts)), fmt='%d',delimiter=', ')"
   ]
  },
  {
   "cell_type": "code",
   "execution_count": 67,
   "metadata": {},
   "outputs": [
    {
     "data": {
      "text/plain": [
       "[<matplotlib.lines.Line2D at 0x1898468ffa0>]"
      ]
     },
     "execution_count": 67,
     "metadata": {},
     "output_type": "execute_result"
    },
    {
     "data": {
      "image/png": "[encoded data removed]",
      "text/plain": [
       "<Figure size 432x288 with 1 Axes>"
      ]
     },
     "metadata": {
      "needs_background": "light"
     },
     "output_type": "display_data"
    }
   ],
   "source": [
    "plt.plot(np.arange(len(cts)-2), cts[0:-2])"
   ]
  },
  {
   "cell_type": "code",
   "execution_count": 68,
   "metadata": {},
   "outputs": [],
   "source": [
    "# m = males[10][1].copy()\n",
    "# print(males[2][0])\n",
    "th = 150\n",
    "malesLBP = []\n",
    "open(\"males.csv\", \"w\").close()\n",
    "f=open('males.csv','a')\n",
    "for i in range(len(males)):\n",
    "    m = males[i][1].copy()\n",
    "    img = np.array(Image.fromarray(m).resize((m.shape[0]//DF, m.shape[1]// DF)))\n",
    "    thresh(img, th)\n",
    "    cts = LBP(img)\n",
    "    malesLBP.append(cts.reshape((1, len(cts))))\n",
    "    np.savetxt(f, cts.reshape(1, len(cts)), fmt='%d',delimiter=', ')\n",
    "\n",
    "    # malesthresh.append(cts.reshape(1, len(cts)))\n",
    "    \n",
    "# io.imsave('output.jpg',m)"
   ]
  },
  {
   "cell_type": "code",
   "execution_count": 69,
   "metadata": {},
   "outputs": [],
   "source": [
    "f.close()"
   ]
  },
  {
   "cell_type": "code",
   "execution_count": 70,
   "metadata": {},
   "outputs": [],
   "source": [
    "th = 150\n",
    "femalesLBP = []\n",
    "open(\"females.csv\", \"w\").close()\n",
    "f=open('females.csv','a')\n",
    "for i in range(len(females)):\n",
    "    fem = females[i][1].copy()\n",
    "    img = np.array(Image.fromarray(fem).resize((fem.shape[0]//DF, fem.shape[1]// DF)))\n",
    "    thresh(img, th)\n",
    "    cts = LBP(img)\n",
    "    femalesLBP.append(cts.reshape((1, len(cts))))\n",
    "    np.savetxt(f, cts.reshape(1, len(cts)), fmt='%d',delimiter=', ')"
   ]
  },
  {
   "cell_type": "code",
   "execution_count": 71,
   "metadata": {},
   "outputs": [],
   "source": [
    "f.close()"
   ]
  },
  {
   "cell_type": "code",
   "execution_count": 72,
   "metadata": {},
   "outputs": [
    {
     "name": "stdout",
     "output_type": "stream",
     "text": [
      "M226.jpg\n"
     ]
    },
    {
     "data": {
      "text/plain": [
       "[<matplotlib.lines.Line2D at 0x189ae58fb80>]"
      ]
     },
     "execution_count": 72,
     "metadata": {},
     "output_type": "execute_result"
    },
    {
     "data": {
      "image/png": "[encoded data removed]",
      "text/plain": [
       "<Figure size 432x288 with 1 Axes>"
      ]
     },
     "metadata": {
      "needs_background": "light"
     },
     "output_type": "display_data"
    }
   ],
   "source": [
    "m = males[225][1].copy()\n",
    "print(males[225][0])\n",
    "img = np.array(Image.fromarray(m).resize((m.shape[0]//DF, m.shape[1]// DF)))\n",
    "thresh(img, th)\n",
    "io.imsave('output.jpg', img)\n",
    "cts = LBP(img)\n",
    "plt.plot(np.arange(len(cts)-2), cts[0:-2])"
   ]
  },
  {
   "cell_type": "code",
   "execution_count": 73,
   "metadata": {},
   "outputs": [
    {
     "name": "stdout",
     "output_type": "stream",
     "text": [
      "112\n"
     ]
    }
   ],
   "source": [
    "for i in range(len(females)):\n",
    "    if(females[i][0]=='F115.jpg'):\n",
    "        print(i)\n",
    "        break"
   ]
  },
  {
   "cell_type": "code",
   "execution_count": 74,
   "metadata": {},
   "outputs": [
    {
     "data": {
      "text/plain": [
       "[<matplotlib.lines.Line2D at 0x1898474f4c0>]"
      ]
     },
     "execution_count": 74,
     "metadata": {},
     "output_type": "execute_result"
    },
    {
     "data": {
      "image/png": "[encoded data removed]",
      "text/plain": [
       "<Figure size 432x288 with 1 Axes>"
      ]
     },
     "metadata": {
      "needs_background": "light"
     },
     "output_type": "display_data"
    }
   ],
   "source": [
    "fem = females[112][1].copy()\n",
    "img = np.array(Image.fromarray(fem).resize((fem.shape[0]//DF, fem.shape[1]// DF)))\n",
    "thresh(img, th)\n",
    "io.imsave('output.jpg', img)\n",
    "cts = LBP(img)\n",
    "plt.plot(np.arange(len(cts)-2), cts[0:-2])"
   ]
  },
  {
   "cell_type": "code",
   "execution_count": 75,
   "metadata": {},
   "outputs": [
    {
     "name": "stdout",
     "output_type": "stream",
     "text": [
      "(1, 243)\n",
      "(1, 243)\n",
      "(1, 243)\n",
      "(1, 243)\n",
      "(1, 243)\n",
      "(1, 243)\n",
      "(1, 243)\n",
      "(1, 243)\n",
      "(1, 243)\n",
      "(1, 243)\n",
      "(1, 243)\n",
      "(1, 243)\n",
      "(1, 243)\n",
      "(1, 243)\n",
      "(1, 243)\n",
      "(1, 243)\n",
      "(1, 243)\n",
      "(1, 243)\n",
      "(1, 243)\n",
      "(1, 243)\n",
      "(1, 243)\n",
      "(1, 243)\n",
      "(1, 243)\n",
      "(1, 243)\n",
      "(1, 243)\n",
      "(1, 243)\n",
      "(1, 243)\n",
      "(1, 243)\n",
      "(1, 243)\n",
      "(1, 243)\n",
      "(1, 243)\n",
      "(1, 243)\n",
      "(1, 243)\n",
      "(1, 243)\n",
      "(1, 243)\n",
      "(1, 243)\n",
      "(1, 243)\n",
      "(1, 243)\n",
      "(1, 243)\n",
      "(1, 243)\n",
      "(1, 243)\n",
      "(1, 243)\n",
      "(1, 243)\n",
      "(1, 243)\n",
      "(1, 243)\n",
      "(1, 243)\n",
      "(1, 243)\n",
      "(1, 243)\n",
      "(1, 243)\n",
      "(1, 243)\n",
      "(1, 243)\n",
      "(1, 243)\n",
      "(1, 243)\n",
      "(1, 243)\n",
      "(1, 243)\n",
      "(1, 243)\n",
      "(1, 243)\n",
      "(1, 243)\n",
      "(1, 243)\n",
      "(1, 243)\n",
      "(1, 243)\n",
      "(1, 243)\n",
      "(1, 243)\n",
      "(1, 243)\n",
      "(1, 243)\n",
      "(1, 243)\n",
      "(1, 243)\n",
      "(1, 243)\n",
      "(1, 243)\n",
      "(1, 243)\n",
      "(1, 243)\n",
      "(1, 243)\n",
      "(1, 243)\n",
      "(1, 243)\n",
      "(1, 243)\n",
      "(1, 243)\n",
      "(1, 243)\n",
      "(1, 243)\n",
      "(1, 243)\n",
      "(1, 243)\n",
      "(1, 243)\n",
      "(1, 243)\n",
      "(1, 243)\n",
      "(1, 243)\n",
      "(1, 243)\n",
      "(1, 243)\n",
      "(1, 243)\n",
      "(1, 243)\n",
      "(1, 243)\n",
      "(1, 243)\n",
      "(1, 243)\n",
      "(1, 243)\n",
      "(1, 243)\n",
      "(1, 243)\n",
      "(1, 243)\n",
      "(1, 243)\n",
      "(1, 243)\n",
      "(1, 243)\n",
      "(1, 243)\n",
      "(1, 243)\n",
      "(1, 243)\n",
      "(1, 243)\n",
      "(1, 243)\n",
      "(1, 243)\n",
      "(1, 243)\n",
      "(1, 243)\n",
      "(1, 243)\n",
      "(1, 243)\n",
      "(1, 243)\n",
      "(1, 243)\n",
      "(1, 243)\n",
      "(1, 243)\n",
      "(1, 243)\n",
      "(1, 243)\n",
      "(1, 243)\n",
      "(1, 243)\n",
      "(1, 243)\n",
      "(1, 243)\n",
      "(1, 243)\n",
      "(1, 243)\n",
      "(1, 243)\n",
      "(1, 243)\n",
      "(1, 243)\n",
      "(1, 243)\n",
      "(1, 243)\n",
      "(1, 243)\n",
      "(1, 243)\n",
      "(1, 243)\n",
      "(1, 243)\n",
      "(1, 243)\n",
      "(1, 243)\n",
      "(1, 243)\n",
      "(1, 243)\n",
      "(1, 243)\n",
      "(1, 243)\n",
      "(1, 243)\n",
      "(1, 243)\n",
      "(1, 243)\n",
      "(1, 243)\n",
      "(1, 243)\n",
      "(1, 243)\n",
      "(1, 243)\n",
      "(1, 243)\n",
      "(1, 243)\n",
      "(1, 243)\n",
      "(1, 243)\n",
      "(1, 243)\n",
      "(1, 243)\n",
      "(1, 243)\n",
      "(1, 243)\n",
      "(1, 243)\n",
      "(1, 243)\n",
      "(1, 243)\n",
      "(1, 243)\n",
      "(1, 243)\n",
      "(1, 243)\n",
      "(1, 243)\n",
      "(1, 243)\n",
      "(1, 243)\n",
      "(1, 243)\n",
      "(1, 243)\n",
      "(1, 243)\n",
      "(1, 243)\n",
      "(1, 243)\n",
      "(1, 243)\n",
      "(1, 243)\n",
      "(1, 243)\n",
      "(1, 243)\n",
      "(1, 243)\n",
      "(1, 243)\n",
      "(1, 243)\n",
      "(1, 243)\n",
      "(1, 243)\n",
      "(1, 243)\n",
      "(1, 243)\n",
      "(1, 243)\n",
      "(1, 243)\n",
      "(1, 243)\n",
      "(1, 243)\n",
      "(1, 243)\n",
      "(1, 243)\n",
      "(1, 243)\n",
      "(1, 243)\n",
      "(1, 243)\n",
      "(1, 243)\n",
      "(1, 243)\n",
      "(1, 243)\n",
      "(1, 243)\n",
      "(1, 243)\n",
      "(1, 243)\n",
      "(1, 243)\n",
      "(1, 243)\n",
      "(1, 243)\n",
      "(1, 243)\n",
      "(1, 243)\n",
      "(1, 243)\n",
      "(1, 243)\n",
      "(1, 243)\n",
      "(1, 243)\n",
      "(1, 243)\n",
      "(1, 243)\n",
      "(1, 243)\n",
      "(1, 243)\n",
      "(1, 243)\n",
      "(1, 243)\n",
      "(1, 243)\n",
      "(1, 243)\n",
      "(1, 243)\n",
      "(1, 243)\n",
      "(1, 243)\n",
      "(1, 243)\n",
      "(1, 243)\n",
      "(1, 243)\n",
      "(1, 243)\n",
      "(1, 243)\n",
      "(1, 243)\n",
      "(1, 243)\n",
      "(1, 243)\n",
      "(1, 243)\n",
      "(1, 243)\n",
      "(1, 243)\n",
      "(1, 243)\n",
      "(1, 243)\n",
      "(1, 243)\n",
      "(1, 243)\n",
      "(1, 243)\n",
      "(1, 243)\n",
      "(1, 243)\n",
      "(1, 243)\n",
      "(1, 243)\n",
      "(1, 243)\n",
      "(1, 243)\n"
     ]
    }
   ],
   "source": [
    "for el in malesLBP:\n",
    "    print(el.shape)"
   ]
  },
  {
   "cell_type": "code",
   "execution_count": 77,
   "metadata": {},
   "outputs": [],
   "source": [
    "malesLBP2 = np.array(malesLBP).reshape((len(malesLBP), malesLBP[0].shape[1])).astype(int)\n",
    "femalesLBP2 = np.array(femalesLBP).reshape((len(femalesLBP), malesLBP[0].shape[1])).astype(int)"
   ]
  },
  {
   "cell_type": "code",
   "execution_count": 78,
   "metadata": {},
   "outputs": [],
   "source": [
    "from sklearn.model_selection import train_test_split\n",
    "from sklearn import svm"
   ]
  },
  {
   "cell_type": "code",
   "execution_count": 398,
   "metadata": {},
   "outputs": [
    {
     "name": "stdout",
     "output_type": "stream",
     "text": [
      "131\n",
      "(131, 243)\n"
     ]
    }
   ],
   "source": [
    "taken = len(femalesLBP2)\n",
    "print(taken)\n",
    "print(femalesLBP2.shape)\n",
    "X = np.append(malesLBP2[0:taken], femalesLBP2, axis=0)\n",
    "y = np.append(np.repeat(1, taken), np.repeat(0, taken))\n",
    "X_train, X_test, y_train, y_test = train_test_split(X, y, test_size=0.1)\n",
    "\n",
    "# X_rem = malesLBP2[taken:]\n",
    "# print(len(X_rem))\n",
    "# y_rem = np.repeat(1, len(X_rem))\n",
    "# X_test = np.append(X_test, X_rem, axis= 0)\n",
    "# y_test = np.append(y_test, y_rem, axis= 0)\n",
    "\n",
    "# mtrain, mtest, mytrain, mytest = train_test_split(malesLBP2, np.repeat(1, len(malesLBP2)), test_size=0.3)\n",
    "# ftrain, ftest, fytrain, fytest = train_test_split(femalesLBP2, np.repeat(0, len(femalesLBP2)), test_size=0.3)\n",
    "# X_train = np.append(mtrain, ftrain, axis=0)\n",
    "# X_test = np.append(mtest, ftest, axis=0)\n",
    "# y_train = np.append(mytrain, fytrain, axis=0)\n",
    "# y_test = np.append(mytest, fytest, axis=0)"
   ]
  },
  {
   "cell_type": "code",
   "execution_count": 399,
   "metadata": {},
   "outputs": [],
   "source": [
    "clf = svm.SVC(C=10000, kernel='rbf')\n",
    "clf.fit(X_train, y_train)\n",
    "pred = clf.predict(X_test)"
   ]
  },
  {
   "cell_type": "code",
   "execution_count": 400,
   "metadata": {},
   "outputs": [
    {
     "data": {
      "text/plain": [
       "74.07407407407408"
      ]
     },
     "execution_count": 400,
     "metadata": {},
     "output_type": "execute_result"
    }
   ],
   "source": [
    "np.count_nonzero(pred==y_test)/len(y_test)*100"
   ]
  },
  {
   "cell_type": "markdown",
   "metadata": {},
   "source": [
    "### Last 4 Cells 29 times"
   ]
  },
  {
   "cell_type": "code",
   "execution_count": 450,
   "metadata": {},
   "outputs": [
    {
     "name": "stdout",
     "output_type": "stream",
     "text": [
      "88.88888888888889\n",
      "51.85185185185185\n",
      "68.22222222222221\n"
     ]
    }
   ],
   "source": [
    "acc = []\n",
    "for i in range(100):\n",
    "    X_train, X_test, y_train, y_test = train_test_split(X, y, test_size=0.1)\n",
    "    clf = svm.SVC(C=2000, kernel='rbf')\n",
    "    clf.fit(X_train, y_train)\n",
    "    pred = clf.predict(X_test)\n",
    "    acc.append(np.count_nonzero(pred==y_test)/len(y_test)*100)\n",
    "\n",
    "acc = np.array(acc)\n",
    "# print(acc)\n",
    "print(np.max(acc))\n",
    "print(np.min(acc))\n",
    "print(np.average(acc))"
   ]
  },
  {
   "cell_type": "code",
   "execution_count": 390,
   "metadata": {},
   "outputs": [
    {
     "name": "stdout",
     "output_type": "stream",
     "text": [
      "[1 1 0 0 1 1 0 1 0 1 1 0 0 0 0 0 1 0 0 1 1 1 1 0 1 1 0]\n",
      "[0 0 0 0 0 0 0 0 1 1 1 0 0 0 0 0 0 0 0 0 0 0 0 1 1 1 0]\n"
     ]
    }
   ],
   "source": [
    "print(pred)\n",
    "print(y_test)"
   ]
  },
  {
   "cell_type": "code",
   "execution_count": 200,
   "metadata": {},
   "outputs": [],
   "source": [
    "import csv"
   ]
  },
  {
   "cell_type": "code",
   "execution_count": 201,
   "metadata": {},
   "outputs": [],
   "source": [
    "def read_data():\n",
    "    data = None\n",
    "    # TODO 1: Read the file 'data.csv' into the variable data.\n",
    "    #        Convert the matrix data into numpy array and make sure that the values in data is float and not strings.\n",
    "    # Hint: You already implemented it in Lab 3.\n",
    "    # Hint: use data = np.asarray(data)\n",
    "    # Note: data contains both the training data together with labelled classes.\n",
    "    file = open('data.csv')\n",
    "    csvreader = csv.reader(file)\n",
    "    rows = []\n",
    "    for row in csvreader:\n",
    "        rows.append(row)\n",
    "    file.close()\n",
    "    data = np.array(rows).astype(float)\n",
    "    return data"
   ]
  },
  {
   "cell_type": "code",
   "execution_count": null,
   "metadata": {},
   "outputs": [],
   "source": []
  }
 ],
 "metadata": {
  "interpreter": {
   "hash": "4b7a79a04785874387104f3c6feb1de19ab04361719f0839cd06169f76085a5a"
  },
  "kernelspec": {
   "display_name": "Python 3.9.1 64-bit",
   "language": "python",
   "name": "python3"
  },
  "language_info": {
   "codemirror_mode": {
    "name": "ipython",
    "version": 3
   },
   "file_extension": ".py",
   "mimetype": "text/x-python",
   "name": "python",
   "nbconvert_exporter": "python",
   "pygments_lexer": "ipython3",
   "version": "3.9.1"
  },
  "orig_nbformat": 4
 },
 "nbformat": 4,
 "nbformat_minor": 2
}
